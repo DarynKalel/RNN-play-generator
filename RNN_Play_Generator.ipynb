{
  "nbformat": 4,
  "nbformat_minor": 0,
  "metadata": {
    "colab": {
      "provenance": [],
      "gpuType": "T4"
    },
    "kernelspec": {
      "name": "python3",
      "display_name": "Python 3"
    },
    "language_info": {
      "name": "python"
    },
    "accelerator": "GPU"
  },
  "cells": [
    {
      "cell_type": "markdown",
      "source": [
        "In this project I will create a Recurrent Neural Network Model using a character predicitive model that will take as input a variable length sequence and predcit the next character"
      ],
      "metadata": {
        "id": "6Y6Q-TpG7aQS"
      }
    },
    {
      "cell_type": "code",
      "execution_count": null,
      "metadata": {
        "id": "i8htFfrj6UL8"
      },
      "outputs": [],
      "source": [
        "from keras.preprocessing import sequence\n",
        "import keras\n",
        "import tensorflow as tf\n",
        "import numpy as np\n",
        "import os"
      ]
    },
    {
      "cell_type": "markdown",
      "source": [
        "#Dataset\n",
        "For this project we only need one piece of data, so I will extract it from shakespheare's poem."
      ],
      "metadata": {
        "id": "su-Ehiow8Wa0"
      }
    },
    {
      "cell_type": "code",
      "source": [
        "path_to_file = tf.keras.utils.get_file('shakespeare.txt', 'https://storage.googleapis.com/download.tensorflow.org/data/shakespeare.txt')"
      ],
      "metadata": {
        "colab": {
          "base_uri": "https://localhost:8080/"
        },
        "id": "bOtDvidP7_WY",
        "outputId": "9da3d9eb-52aa-405e-c882-4a9d47ceee86"
      },
      "execution_count": null,
      "outputs": [
        {
          "output_type": "stream",
          "name": "stdout",
          "text": [
            "Downloading data from https://storage.googleapis.com/download.tensorflow.org/data/shakespeare.txt\n",
            "1115394/1115394 [==============================] - 0s 0us/step\n"
          ]
        }
      ]
    },
    {
      "cell_type": "code",
      "source": [
        "from google.colab import files\n",
        "path_to_files = list(files.upload().keys())[0]"
      ],
      "metadata": {
        "colab": {
          "base_uri": "https://localhost:8080/",
          "height": 73
        },
        "id": "LjijLlBv7_Sz",
        "outputId": "34c70255-c134-4e87-f1fc-14dd8103482a"
      },
      "execution_count": null,
      "outputs": [
        {
          "output_type": "display_data",
          "data": {
            "text/plain": [
              "<IPython.core.display.HTML object>"
            ],
            "text/html": [
              "\n",
              "     <input type=\"file\" id=\"files-cc59239c-0ae2-4d7b-945b-313a78e1729f\" name=\"files[]\" multiple disabled\n",
              "        style=\"border:none\" />\n",
              "     <output id=\"result-cc59239c-0ae2-4d7b-945b-313a78e1729f\">\n",
              "      Upload widget is only available when the cell has been executed in the\n",
              "      current browser session. Please rerun this cell to enable.\n",
              "      </output>\n",
              "      <script>// Copyright 2017 Google LLC\n",
              "//\n",
              "// Licensed under the Apache License, Version 2.0 (the \"License\");\n",
              "// you may not use this file except in compliance with the License.\n",
              "// You may obtain a copy of the License at\n",
              "//\n",
              "//      http://www.apache.org/licenses/LICENSE-2.0\n",
              "//\n",
              "// Unless required by applicable law or agreed to in writing, software\n",
              "// distributed under the License is distributed on an \"AS IS\" BASIS,\n",
              "// WITHOUT WARRANTIES OR CONDITIONS OF ANY KIND, either express or implied.\n",
              "// See the License for the specific language governing permissions and\n",
              "// limitations under the License.\n",
              "\n",
              "/**\n",
              " * @fileoverview Helpers for google.colab Python module.\n",
              " */\n",
              "(function(scope) {\n",
              "function span(text, styleAttributes = {}) {\n",
              "  const element = document.createElement('span');\n",
              "  element.textContent = text;\n",
              "  for (const key of Object.keys(styleAttributes)) {\n",
              "    element.style[key] = styleAttributes[key];\n",
              "  }\n",
              "  return element;\n",
              "}\n",
              "\n",
              "// Max number of bytes which will be uploaded at a time.\n",
              "const MAX_PAYLOAD_SIZE = 100 * 1024;\n",
              "\n",
              "function _uploadFiles(inputId, outputId) {\n",
              "  const steps = uploadFilesStep(inputId, outputId);\n",
              "  const outputElement = document.getElementById(outputId);\n",
              "  // Cache steps on the outputElement to make it available for the next call\n",
              "  // to uploadFilesContinue from Python.\n",
              "  outputElement.steps = steps;\n",
              "\n",
              "  return _uploadFilesContinue(outputId);\n",
              "}\n",
              "\n",
              "// This is roughly an async generator (not supported in the browser yet),\n",
              "// where there are multiple asynchronous steps and the Python side is going\n",
              "// to poll for completion of each step.\n",
              "// This uses a Promise to block the python side on completion of each step,\n",
              "// then passes the result of the previous step as the input to the next step.\n",
              "function _uploadFilesContinue(outputId) {\n",
              "  const outputElement = document.getElementById(outputId);\n",
              "  const steps = outputElement.steps;\n",
              "\n",
              "  const next = steps.next(outputElement.lastPromiseValue);\n",
              "  return Promise.resolve(next.value.promise).then((value) => {\n",
              "    // Cache the last promise value to make it available to the next\n",
              "    // step of the generator.\n",
              "    outputElement.lastPromiseValue = value;\n",
              "    return next.value.response;\n",
              "  });\n",
              "}\n",
              "\n",
              "/**\n",
              " * Generator function which is called between each async step of the upload\n",
              " * process.\n",
              " * @param {string} inputId Element ID of the input file picker element.\n",
              " * @param {string} outputId Element ID of the output display.\n",
              " * @return {!Iterable<!Object>} Iterable of next steps.\n",
              " */\n",
              "function* uploadFilesStep(inputId, outputId) {\n",
              "  const inputElement = document.getElementById(inputId);\n",
              "  inputElement.disabled = false;\n",
              "\n",
              "  const outputElement = document.getElementById(outputId);\n",
              "  outputElement.innerHTML = '';\n",
              "\n",
              "  const pickedPromise = new Promise((resolve) => {\n",
              "    inputElement.addEventListener('change', (e) => {\n",
              "      resolve(e.target.files);\n",
              "    });\n",
              "  });\n",
              "\n",
              "  const cancel = document.createElement('button');\n",
              "  inputElement.parentElement.appendChild(cancel);\n",
              "  cancel.textContent = 'Cancel upload';\n",
              "  const cancelPromise = new Promise((resolve) => {\n",
              "    cancel.onclick = () => {\n",
              "      resolve(null);\n",
              "    };\n",
              "  });\n",
              "\n",
              "  // Wait for the user to pick the files.\n",
              "  const files = yield {\n",
              "    promise: Promise.race([pickedPromise, cancelPromise]),\n",
              "    response: {\n",
              "      action: 'starting',\n",
              "    }\n",
              "  };\n",
              "\n",
              "  cancel.remove();\n",
              "\n",
              "  // Disable the input element since further picks are not allowed.\n",
              "  inputElement.disabled = true;\n",
              "\n",
              "  if (!files) {\n",
              "    return {\n",
              "      response: {\n",
              "        action: 'complete',\n",
              "      }\n",
              "    };\n",
              "  }\n",
              "\n",
              "  for (const file of files) {\n",
              "    const li = document.createElement('li');\n",
              "    li.append(span(file.name, {fontWeight: 'bold'}));\n",
              "    li.append(span(\n",
              "        `(${file.type || 'n/a'}) - ${file.size} bytes, ` +\n",
              "        `last modified: ${\n",
              "            file.lastModifiedDate ? file.lastModifiedDate.toLocaleDateString() :\n",
              "                                    'n/a'} - `));\n",
              "    const percent = span('0% done');\n",
              "    li.appendChild(percent);\n",
              "\n",
              "    outputElement.appendChild(li);\n",
              "\n",
              "    const fileDataPromise = new Promise((resolve) => {\n",
              "      const reader = new FileReader();\n",
              "      reader.onload = (e) => {\n",
              "        resolve(e.target.result);\n",
              "      };\n",
              "      reader.readAsArrayBuffer(file);\n",
              "    });\n",
              "    // Wait for the data to be ready.\n",
              "    let fileData = yield {\n",
              "      promise: fileDataPromise,\n",
              "      response: {\n",
              "        action: 'continue',\n",
              "      }\n",
              "    };\n",
              "\n",
              "    // Use a chunked sending to avoid message size limits. See b/62115660.\n",
              "    let position = 0;\n",
              "    do {\n",
              "      const length = Math.min(fileData.byteLength - position, MAX_PAYLOAD_SIZE);\n",
              "      const chunk = new Uint8Array(fileData, position, length);\n",
              "      position += length;\n",
              "\n",
              "      const base64 = btoa(String.fromCharCode.apply(null, chunk));\n",
              "      yield {\n",
              "        response: {\n",
              "          action: 'append',\n",
              "          file: file.name,\n",
              "          data: base64,\n",
              "        },\n",
              "      };\n",
              "\n",
              "      let percentDone = fileData.byteLength === 0 ?\n",
              "          100 :\n",
              "          Math.round((position / fileData.byteLength) * 100);\n",
              "      percent.textContent = `${percentDone}% done`;\n",
              "\n",
              "    } while (position < fileData.byteLength);\n",
              "  }\n",
              "\n",
              "  // All done.\n",
              "  yield {\n",
              "    response: {\n",
              "      action: 'complete',\n",
              "    }\n",
              "  };\n",
              "}\n",
              "\n",
              "scope.google = scope.google || {};\n",
              "scope.google.colab = scope.google.colab || {};\n",
              "scope.google.colab._files = {\n",
              "  _uploadFiles,\n",
              "  _uploadFilesContinue,\n",
              "};\n",
              "})(self);\n",
              "</script> "
            ]
          },
          "metadata": {}
        },
        {
          "output_type": "stream",
          "name": "stdout",
          "text": [
            "Saving Abai K.txt to Abai K.txt\n"
          ]
        }
      ]
    },
    {
      "cell_type": "markdown",
      "source": [
        "#Read the content of a file"
      ],
      "metadata": {
        "id": "PFxaPqTS-btM"
      }
    },
    {
      "cell_type": "code",
      "source": [
        "#Read, then decode for py2 compat\n",
        "text = open(path_to_files, 'rb').read().decode(encoding='utf-8')\n",
        "#Length of the text is the number of characters in it\n",
        "print('Length of text: {} characters'.format(len(text)))"
      ],
      "metadata": {
        "id": "HoTiJSjB7_QB",
        "colab": {
          "base_uri": "https://localhost:8080/"
        },
        "outputId": "f79dcfa9-19f0-4bda-9064-f5b7ac43a41a"
      },
      "execution_count": null,
      "outputs": [
        {
          "output_type": "stream",
          "name": "stdout",
          "text": [
            "Length of text: 146790 characters\n"
          ]
        }
      ]
    },
    {
      "cell_type": "code",
      "source": [
        "#First 250 characters in the text\n",
        "print(text[:250])"
      ],
      "metadata": {
        "id": "pax4Kusz7_OE",
        "colab": {
          "base_uri": "https://localhost:8080/"
        },
        "outputId": "a7de549d-2125-4b5a-dd48-c0eb66c4617d"
      },
      "execution_count": null,
      "outputs": [
        {
          "output_type": "stream",
          "name": "stdout",
          "text": [
            "The first word\r\n",
            " \r\n",
            "Was life good or bad, but it passed a lot. I had enough in this life: disputes, and painful gossip, and struggle and unworthy quarrels... But now, when I’m on the end of the road, being exhausted and tired, I am convinced of the fu\n"
          ]
        }
      ]
    },
    {
      "cell_type": "markdown",
      "source": [
        "#Encoding\n",
        "I will encode each character as an unique integer\n"
      ],
      "metadata": {
        "id": "NLWjS4gfAv5F"
      }
    },
    {
      "cell_type": "code",
      "source": [
        "vocab = sorted(set(text))\n",
        "#Creating a mapping from unique characters to indices\n",
        "char2idx = {u:i for i, u in enumerate(vocab)}\n",
        "idx2char = np.array(vocab)\n",
        "\n",
        "def text_to_int(text):\n",
        "  return np.array([char2idx[c] for c in text])\n",
        "\n",
        "text_as_int = text_to_int(text)"
      ],
      "metadata": {
        "id": "nqiMrrW67_Ma"
      },
      "execution_count": null,
      "outputs": []
    },
    {
      "cell_type": "code",
      "source": [
        "#Let's look at how the part of the text is encoded\n",
        "print(\"Text:\", text[:18])\n",
        "print(\"Encoded:\", text_to_int(text[:14]))"
      ],
      "metadata": {
        "id": "rVsYHwCq7_KI",
        "colab": {
          "base_uri": "https://localhost:8080/"
        },
        "outputId": "7a1ab07d-1b13-4504-e6b7-519e966b1a48"
      },
      "execution_count": null,
      "outputs": [
        {
          "output_type": "stream",
          "name": "stdout",
          "text": [
            "Text: The first word\r\n",
            " \r\n",
            "Encoded: [43 58 55  2 56 59 68 69 70  2 73 65 68 54]\n"
          ]
        }
      ]
    },
    {
      "cell_type": "code",
      "source": [
        "#Here I also created a numeric value into to text\n",
        "def int_to_text(ints):\n",
        "  try:\n",
        "    ints = ints.numpy()\n",
        "  except:\n",
        "    pass\n",
        "  return ''.join(idx2char[ints])\n",
        "\n",
        "print(int_to_text(text_as_int[:14]))"
      ],
      "metadata": {
        "id": "kL6edhKr7_GY",
        "colab": {
          "base_uri": "https://localhost:8080/"
        },
        "outputId": "e1878aed-cdfb-4c93-93d3-2c19d6a3f157"
      },
      "execution_count": null,
      "outputs": [
        {
          "output_type": "stream",
          "name": "stdout",
          "text": [
            "The first word\n"
          ]
        }
      ]
    },
    {
      "cell_type": "markdown",
      "source": [
        "#Creating Training Examples\n",
        "Our task is to feed a model a short sequence, and the model should give us the next character.\n",
        "\n",
        "To do that we have to split our data into many shorter sequences that we can pass to the model as training examples.\n",
        "\n",
        "The training examples we will prepare will use a seq_length sequence as input and a seq_length sequence as output, where that sequence is the original sequence shifted one letter to the right."
      ],
      "metadata": {
        "id": "Bj11pu42FzGw"
      }
    },
    {
      "cell_type": "code",
      "source": [
        "#First step is to create astream of characters\n",
        "seq_length = 100 #length of sequnce for a training example\n",
        "examples_per_epoch = len(text)//(seq_length+1)\n",
        "\n",
        "#Creating training examples / targets\n",
        "char_dataset = tf.data.Dataset.from_tensor_slices(text_as_int)"
      ],
      "metadata": {
        "id": "X_5hE6xM7_ET"
      },
      "execution_count": null,
      "outputs": []
    },
    {
      "cell_type": "code",
      "source": [
        "#I use batch method to turn this stream of characters into batches of desired length\n",
        "sequences = char_dataset.batch(seq_length+1, drop_remainder = True)"
      ],
      "metadata": {
        "id": "3KVH0CXl7_Cu"
      },
      "execution_count": null,
      "outputs": []
    },
    {
      "cell_type": "code",
      "source": [
        "#Split the sequences into input and output\n",
        "def split_input_target(chunk): #For example Kitap\n",
        "  input_text = chunk[:-1] #Kita\n",
        "  target_text = chunk[1:] #itap\n",
        "  return input_text, target_text #Kita, itap\n",
        "\n",
        "dataset = sequences.map(split_input_target) #Use map to apply the above function to every entry"
      ],
      "metadata": {
        "id": "_qZAvU6e7_BI"
      },
      "execution_count": null,
      "outputs": []
    },
    {
      "cell_type": "code",
      "source": [
        "for x, y in dataset.take(2):\n",
        "  print(\"\\n\\nEXAMPLE\\n\")\n",
        "  print(\"INPUT\")\n",
        "  print(int_to_text(x))\n",
        "  print(\"\\OUTPUT\")\n",
        "  print(int_to_text(y))"
      ],
      "metadata": {
        "id": "JagftgfqNVgr",
        "colab": {
          "base_uri": "https://localhost:8080/"
        },
        "outputId": "a256148b-c23d-4015-d8f9-0b06315699cc"
      },
      "execution_count": null,
      "outputs": [
        {
          "output_type": "stream",
          "name": "stdout",
          "text": [
            "\n",
            "\n",
            "EXAMPLE\n",
            "\n",
            "INPUT\n",
            "The first word\r\n",
            " \r\n",
            "Was life good or bad, but it passed a lot. I had enough in this life: disputes, a\n",
            "\\OUTPUT\n",
            "he first word\r\n",
            " \r\n",
            "Was life good or bad, but it passed a lot. I had enough in this life: disputes, an\n",
            "\n",
            "\n",
            "EXAMPLE\n",
            "\n",
            "INPUT\n",
            "d painful gossip, and struggle and unworthy quarrels... But now, when I’m on the end of the road, be\n",
            "\\OUTPUT\n",
            " painful gossip, and struggle and unworthy quarrels... But now, when I’m on the end of the road, bei\n"
          ]
        }
      ]
    },
    {
      "cell_type": "code",
      "source": [
        "#Defining training bathces\n",
        "BATCH_SIZE = 64\n",
        "VOCAB_SIZE = len(vocab) #Number of unique characters\n",
        "EMBEDDING_DIM = 256\n",
        "RNN_UNITS = 1024\n",
        "BUFFER_SIZE = 10000\n",
        "data = dataset.shuffle(BUFFER_SIZE).batch(BATCH_SIZE, drop_remainder=True)"
      ],
      "metadata": {
        "id": "4mTSmwXeNVc9"
      },
      "execution_count": null,
      "outputs": []
    },
    {
      "cell_type": "markdown",
      "source": [
        "#Building the Model\n",
        "Model consists of:\n",
        "- Embedded layer\n",
        "- LSTM layer\n",
        "- FC layer node for  each unique character"
      ],
      "metadata": {
        "id": "a6JBc_H4yC6Z"
      }
    },
    {
      "cell_type": "code",
      "source": [
        "def build_model(vocab_size, embedding_dim, rnn_units, batch_size):\n",
        "  model = tf.keras.Sequential([\n",
        "      tf.keras.layers.Embedding(vocab_size, embedding_dim,\n",
        "                                batch_input_shape=[batch_size, None]),\n",
        "      tf.keras.layers.LSTM(rnn_units,\n",
        "                           return_sequences=True,\n",
        "                           stateful=True,\n",
        "                           recurrent_initializer='glorot_uniform'),\n",
        "      tf.keras.layers.Dense(vocab_size)\n",
        "    ])\n",
        "  return model\n",
        "\n",
        "model = build_model(VOCAB_SIZE, EMBEDDING_DIM, RNN_UNITS, BATCH_SIZE)\n",
        "model.summary()\n"
      ],
      "metadata": {
        "id": "4Jaw3fOqNVbG",
        "colab": {
          "base_uri": "https://localhost:8080/"
        },
        "outputId": "b91e3906-b0b3-4219-8554-4430d3c263a3"
      },
      "execution_count": null,
      "outputs": [
        {
          "output_type": "stream",
          "name": "stdout",
          "text": [
            "Model: \"sequential\"\n",
            "_________________________________________________________________\n",
            " Layer (type)                Output Shape              Param #   \n",
            "=================================================================\n",
            " embedding (Embedding)       (64, None, 256)           21504     \n",
            "                                                                 \n",
            " lstm (LSTM)                 (64, None, 1024)          5246976   \n",
            "                                                                 \n",
            " dense (Dense)               (64, None, 84)            86100     \n",
            "                                                                 \n",
            "=================================================================\n",
            "Total params: 5354580 (20.43 MB)\n",
            "Trainable params: 5354580 (20.43 MB)\n",
            "Non-trainable params: 0 (0.00 Byte)\n",
            "_________________________________________________________________\n"
          ]
        }
      ]
    },
    {
      "cell_type": "markdown",
      "source": [
        "#Creating a loss function\n"
      ],
      "metadata": {
        "id": "wDZeCsXG_X51"
      }
    },
    {
      "cell_type": "code",
      "source": [
        "for input_example_batch, target_example_batch in data.take(1):\n",
        "  example_batch_predictions = model(input_example_batch)\n",
        "  print(example_batch_predictions.shape, \"# (batch_size, sequence_length, vocab_size)\")"
      ],
      "metadata": {
        "id": "8XCFMcZVNVZN",
        "colab": {
          "base_uri": "https://localhost:8080/"
        },
        "outputId": "a0cf6836-e708-49ac-cfd0-43f3f0b77535"
      },
      "execution_count": null,
      "outputs": [
        {
          "output_type": "stream",
          "name": "stdout",
          "text": [
            "(64, 100, 84) # (batch_size, sequence_length, vocab_size)\n"
          ]
        }
      ]
    },
    {
      "cell_type": "code",
      "source": [
        "print(len(example_batch_predictions))\n",
        "print(example_batch_predictions)"
      ],
      "metadata": {
        "id": "_YGoQVTcNVXs",
        "colab": {
          "base_uri": "https://localhost:8080/"
        },
        "outputId": "bb1ed87f-d03b-46b1-e173-1e1bd5aa9b19"
      },
      "execution_count": null,
      "outputs": [
        {
          "output_type": "stream",
          "name": "stdout",
          "text": [
            "64\n",
            "tf.Tensor(\n",
            "[[[ 3.7177228e-03 -1.2507101e-03  1.5630319e-03 ... -1.2115527e-02\n",
            "    4.4590207e-03 -3.0637651e-03]\n",
            "  [-2.5488422e-03  2.4273833e-03 -4.2964900e-03 ... -9.5116682e-03\n",
            "   -5.4982479e-04  1.7775595e-04]\n",
            "  [-2.0083948e-04  2.4780068e-03  5.2834107e-03 ... -4.8134523e-03\n",
            "   -4.8327609e-04  3.1723981e-03]\n",
            "  ...\n",
            "  [-1.1472092e-02  1.0050940e-02  9.1998400e-03 ...  6.6153742e-03\n",
            "    5.7823898e-04  3.3277522e-03]\n",
            "  [-6.4987596e-03  9.0348013e-03  8.4063075e-03 ...  3.4767233e-03\n",
            "   -6.9641811e-04 -1.8311625e-03]\n",
            "  [-5.3135073e-03  1.1449246e-02  1.3402300e-02 ... -4.4642389e-04\n",
            "    9.1532955e-04  2.2375826e-03]]\n",
            "\n",
            " [[ 1.8683632e-03 -1.3328118e-04  8.0821458e-03 ...  2.5380973e-03\n",
            "   -6.8139168e-04  3.6335518e-03]\n",
            "  [ 3.5403832e-03  2.7771690e-04  9.0905763e-03 ...  2.0293088e-03\n",
            "    1.0899315e-04  6.7269653e-03]\n",
            "  [-1.4382420e-03  2.4881577e-03  6.1914613e-03 ... -2.4711615e-03\n",
            "   -1.1063137e-03  9.0872925e-03]\n",
            "  ...\n",
            "  [-9.0158544e-03  1.6256396e-02 -4.4330657e-03 ... -2.6978513e-03\n",
            "   -3.0482525e-03 -3.4101643e-03]\n",
            "  [-3.0614464e-03  7.8451214e-03 -4.3050819e-03 ... -2.3433892e-03\n",
            "   -5.5628717e-03 -3.3950303e-03]\n",
            "  [-2.1345180e-03  8.1460215e-03 -6.5015070e-03 ...  2.6810335e-03\n",
            "   -9.7693419e-03 -8.0178976e-03]]\n",
            "\n",
            " [[-5.2019479e-03  3.4577409e-03 -4.8840088e-03 ... -2.4179230e-05\n",
            "   -3.8051796e-03  1.9540500e-03]\n",
            "  [-2.0713643e-03  3.2923492e-03  5.3367671e-03 ...  2.5466802e-03\n",
            "   -2.7481215e-03  4.1330126e-03]\n",
            "  [-3.5739630e-03  4.0452355e-03  5.8559268e-03 ... -2.6090611e-03\n",
            "    2.2373365e-03 -1.4977758e-03]\n",
            "  ...\n",
            "  [-1.0734443e-02  1.5359095e-02 -1.4131404e-03 ... -3.4816712e-03\n",
            "    6.9274660e-04  5.5157738e-03]\n",
            "  [-8.0026733e-03  1.3223905e-02  4.4341397e-04 ... -4.5167729e-03\n",
            "   -5.5218278e-04 -2.4699699e-04]\n",
            "  [-1.0538150e-02  1.4749158e-02  1.3275439e-03 ... -4.7685304e-03\n",
            "    3.7790101e-04 -2.8526364e-03]]\n",
            "\n",
            " ...\n",
            "\n",
            " [[ 2.1538360e-03  6.1335508e-05  2.5506653e-03 ... -1.4699646e-04\n",
            "   -1.8724549e-04  3.6600367e-03]\n",
            "  [-1.8214494e-03  3.9619692e-03  2.2809114e-03 ... -3.4362264e-04\n",
            "    1.4343071e-03 -9.9716010e-05]\n",
            "  [-6.4449683e-03  6.6202935e-03 -3.0450481e-03 ...  4.6760472e-04\n",
            "   -3.0473515e-03  2.1958542e-03]\n",
            "  ...\n",
            "  [-1.2973368e-02  1.1705376e-03 -1.4961481e-02 ... -1.6404442e-02\n",
            "   -2.4075503e-03 -1.2233737e-04]\n",
            "  [-1.3303214e-02 -3.2568984e-03 -1.4462914e-02 ... -1.7569494e-02\n",
            "   -2.2155633e-03  3.0897064e-03]\n",
            "  [-7.5339349e-03 -5.1979376e-03 -1.5726645e-02 ... -1.3849766e-02\n",
            "   -8.6143576e-03 -8.0552907e-04]]\n",
            "\n",
            " [[ 5.5492986e-03 -1.1153236e-03 -6.2519684e-04 ... -1.0287813e-03\n",
            "   -3.1223388e-03  2.9100589e-03]\n",
            "  [ 4.8158164e-03  1.1068701e-03 -9.5659227e-04 ... -1.4614076e-03\n",
            "   -3.0879998e-03 -5.5180979e-05]\n",
            "  [-1.8017343e-04  5.4649618e-03 -1.2775080e-03 ... -1.7122908e-03\n",
            "   -1.2502261e-03 -1.1828626e-03]\n",
            "  ...\n",
            "  [ 3.5132852e-03  3.6078086e-03 -3.3889809e-03 ... -8.4275780e-03\n",
            "   -3.2906658e-03 -5.8657252e-03]\n",
            "  [-1.8258372e-03  6.3269101e-03 -8.4674815e-03 ... -7.0580225e-03\n",
            "   -6.4653000e-03 -1.7642151e-03]\n",
            "  [ 9.9046342e-04  5.7575838e-03  1.6730849e-03 ... -3.2605815e-03\n",
            "   -5.0076703e-03  1.8436857e-03]]\n",
            "\n",
            " [[-5.2019479e-03  3.4577409e-03 -4.8840088e-03 ... -2.4179230e-05\n",
            "   -3.8051796e-03  1.9540500e-03]\n",
            "  [-2.0713643e-03  3.2923492e-03  5.3367671e-03 ...  2.5466802e-03\n",
            "   -2.7481215e-03  4.1330126e-03]\n",
            "  [-3.5739630e-03  4.0452355e-03  5.8559268e-03 ... -2.6090611e-03\n",
            "    2.2373365e-03 -1.4977758e-03]\n",
            "  ...\n",
            "  [-2.7945335e-03  1.3613453e-02 -1.0292043e-03 ...  8.5598446e-04\n",
            "   -3.8992497e-05  2.2812071e-03]\n",
            "  [ 4.1011523e-04  1.0651884e-02  7.3625422e-03 ...  3.1439522e-03\n",
            "   -9.8710344e-04  4.5936657e-03]\n",
            "  [-4.5023547e-03  1.2566749e-02  1.3130936e-03 ...  2.6466087e-03\n",
            "   -4.2128330e-03  4.9959705e-03]]], shape=(64, 100, 84), dtype=float32)\n"
          ]
        }
      ]
    },
    {
      "cell_type": "code",
      "source": [
        "#Let's see the very first prediction\n",
        "pred = example_batch_predictions[0]\n",
        "print(len(pred))\n",
        "print(pred)"
      ],
      "metadata": {
        "colab": {
          "base_uri": "https://localhost:8080/"
        },
        "id": "r3S792FlB9Kl",
        "outputId": "02299b44-a040-4995-8434-243ec2d6b23f"
      },
      "execution_count": null,
      "outputs": [
        {
          "output_type": "stream",
          "name": "stdout",
          "text": [
            "100\n",
            "tf.Tensor(\n",
            "[[ 0.00371772 -0.00125071  0.00156303 ... -0.01211553  0.00445902\n",
            "  -0.00306377]\n",
            " [-0.00254884  0.00242738 -0.00429649 ... -0.00951167 -0.00054982\n",
            "   0.00017776]\n",
            " [-0.00020084  0.00247801  0.00528341 ... -0.00481345 -0.00048328\n",
            "   0.0031724 ]\n",
            " ...\n",
            " [-0.01147209  0.01005094  0.00919984 ...  0.00661537  0.00057824\n",
            "   0.00332775]\n",
            " [-0.00649876  0.0090348   0.00840631 ...  0.00347672 -0.00069642\n",
            "  -0.00183116]\n",
            " [-0.00531351  0.01144925  0.0134023  ... -0.00044642  0.00091533\n",
            "   0.00223758]], shape=(100, 84), dtype=float32)\n"
          ]
        }
      ]
    },
    {
      "cell_type": "code",
      "source": [
        "#Look at the prediciton at the first time step\n",
        "time_pred = pred[0]\n",
        "print(len(time_pred))\n",
        "print(time_pred)"
      ],
      "metadata": {
        "colab": {
          "base_uri": "https://localhost:8080/"
        },
        "id": "IDqNpd1lB9HO",
        "outputId": "b968af42-fecd-474b-9330-0d473294ab16"
      },
      "execution_count": null,
      "outputs": [
        {
          "output_type": "stream",
          "name": "stdout",
          "text": [
            "84\n",
            "tf.Tensor(\n",
            "[ 0.00371772 -0.00125071  0.00156303 -0.00124311 -0.00667032 -0.00274784\n",
            " -0.00302543  0.00148637 -0.00221082 -0.00237075  0.00349066 -0.00164978\n",
            " -0.00320705  0.00030495  0.00872804  0.00277136  0.00248159  0.00663225\n",
            "  0.00022087 -0.00356803 -0.00453318 -0.0006427  -0.00541036 -0.00111798\n",
            "  0.0046152  -0.00211615 -0.00350131  0.00378645  0.00077043  0.00495689\n",
            " -0.00266347  0.00099624  0.00105153 -0.00707394 -0.00308315 -0.00133746\n",
            "  0.0006271  -0.00468759  0.00308134  0.00038349 -0.01143216  0.00156933\n",
            "  0.00090544  0.00300666 -0.00532748  0.00328557 -0.00883934 -0.00256045\n",
            "  0.00436269  0.00015389 -0.00434203 -0.00103183 -0.00153853 -0.00292304\n",
            "  0.00519049 -0.00601248  0.00045956 -0.00465124 -0.00385284 -0.00161661\n",
            " -0.00497318 -0.00226722 -0.00556591 -0.00231706 -0.00016475  0.00056381\n",
            "  0.00065338  0.00418298 -0.000384    0.00018901 -0.00040335 -0.00465836\n",
            "  0.00687522  0.00206253  0.00052432 -0.0014558   0.00067758  0.00052424\n",
            "  0.00600118  0.00137676  0.00321106 -0.01211553  0.00445902 -0.00306377], shape=(84,), dtype=float32)\n"
          ]
        }
      ]
    },
    {
      "cell_type": "code",
      "source": [
        "sampled_indices = tf.random.categorical(pred, num_samples=1)\n",
        "sampled_indices = np.reshape(sampled_indices, (1, -1))[0]\n",
        "predicted_chars = int_to_text(sampled_indices)\n",
        "predicted_chars"
      ],
      "metadata": {
        "colab": {
          "base_uri": "https://localhost:8080/",
          "height": 35
        },
        "id": "8Robps2wB9FP",
        "outputId": "59a9be9b-aded-4908-f8b1-86be5899a630"
      },
      "execution_count": null,
      "outputs": [
        {
          "output_type": "execute_result",
          "data": {
            "text/plain": [
              "';J\\n«!-WMefLPI.Q\\riQ5r»JjTdaBu»ND–uD3lL:6jCKH\\nED\\rJs9Srw’Of0rypVt!VzR(olPBAo cum3q…]MlmuLG-?B\\re1DkfLI\\n»'"
            ],
            "application/vnd.google.colaboratory.intrinsic+json": {
              "type": "string"
            }
          },
          "metadata": {},
          "execution_count": 19
        }
      ]
    },
    {
      "cell_type": "code",
      "source": [
        "def loss(labels, logits):\n",
        "  return tf.keras.losses.sparse_categorical_crossentropy(labels, logits, from_logits=True)"
      ],
      "metadata": {
        "id": "WyPyAjcfB86u"
      },
      "execution_count": null,
      "outputs": []
    },
    {
      "cell_type": "markdown",
      "source": [
        "#Compiling the model\n",
        "We can consider ur problem as a classification, where the model predicts the probability of ech unique character coming next"
      ],
      "metadata": {
        "id": "AXR2x3rqGE3E"
      }
    },
    {
      "cell_type": "code",
      "source": [
        "model.compile(optimizer='adam', loss=loss)"
      ],
      "metadata": {
        "id": "1kWSacK_B826"
      },
      "execution_count": null,
      "outputs": []
    },
    {
      "cell_type": "markdown",
      "source": [
        "#Creating the checkpoints\n",
        "Here I will setup and configure checkpoints to save the model as it trains. This will allow us to load the data from the checkpoint and continue to train"
      ],
      "metadata": {
        "id": "occA3InTGhdx"
      }
    },
    {
      "cell_type": "code",
      "source": [
        "#Directory where the checkpoints will be saved\n",
        "checkpoint_dir = './training_checkpoints'\n",
        "#Name of checkpoint_files\n",
        "checkpoint_prefix = os.path.join(checkpoint_dir, \"ckpt_{epoch}\")\n",
        "\n",
        "checkpoint_callback=tf.keras.callbacks.ModelCheckpoint(\n",
        "    filepath=checkpoint_prefix,\n",
        "    save_weights_only = True)"
      ],
      "metadata": {
        "id": "9D5-aXu5B80R"
      },
      "execution_count": null,
      "outputs": []
    },
    {
      "cell_type": "markdown",
      "source": [
        "#Training"
      ],
      "metadata": {
        "id": "7XIf17nmH0V-"
      }
    },
    {
      "cell_type": "code",
      "source": [
        "history = model.fit(data, epochs=40, callbacks=[checkpoint_callback])"
      ],
      "metadata": {
        "colab": {
          "base_uri": "https://localhost:8080/"
        },
        "id": "9Qc2Oo8BB8y5",
        "outputId": "da1c71d7-a816-46ec-9872-9329ba84d242"
      },
      "execution_count": null,
      "outputs": [
        {
          "output_type": "stream",
          "name": "stdout",
          "text": [
            "Epoch 1/40\n",
            "22/22 [==============================] - 5s 91ms/step - loss: 3.2509\n",
            "Epoch 2/40\n",
            "22/22 [==============================] - 2s 82ms/step - loss: 2.9189\n",
            "Epoch 3/40\n",
            "22/22 [==============================] - 2s 78ms/step - loss: 2.6245\n",
            "Epoch 4/40\n",
            "22/22 [==============================] - 2s 74ms/step - loss: 2.3846\n",
            "Epoch 5/40\n",
            "22/22 [==============================] - 2s 76ms/step - loss: 2.2454\n",
            "Epoch 6/40\n",
            "22/22 [==============================] - 2s 75ms/step - loss: 2.1324\n",
            "Epoch 7/40\n",
            "22/22 [==============================] - 2s 73ms/step - loss: 2.0280\n",
            "Epoch 8/40\n",
            "22/22 [==============================] - 2s 75ms/step - loss: 1.9369\n",
            "Epoch 9/40\n",
            "22/22 [==============================] - 2s 73ms/step - loss: 1.8527\n",
            "Epoch 10/40\n",
            "22/22 [==============================] - 2s 79ms/step - loss: 1.7785\n",
            "Epoch 11/40\n",
            "22/22 [==============================] - 2s 80ms/step - loss: 1.7095\n",
            "Epoch 12/40\n",
            "22/22 [==============================] - 2s 75ms/step - loss: 1.6456\n",
            "Epoch 13/40\n",
            "22/22 [==============================] - 2s 84ms/step - loss: 1.5844\n",
            "Epoch 14/40\n",
            "22/22 [==============================] - 2s 79ms/step - loss: 1.5277\n",
            "Epoch 15/40\n",
            "22/22 [==============================] - 2s 77ms/step - loss: 1.4775\n",
            "Epoch 16/40\n",
            "22/22 [==============================] - 2s 75ms/step - loss: 1.4297\n",
            "Epoch 17/40\n",
            "22/22 [==============================] - 2s 78ms/step - loss: 1.3851\n",
            "Epoch 18/40\n",
            "22/22 [==============================] - 2s 77ms/step - loss: 1.3400\n",
            "Epoch 19/40\n",
            "22/22 [==============================] - 2s 81ms/step - loss: 1.2964\n",
            "Epoch 20/40\n",
            "22/22 [==============================] - 2s 79ms/step - loss: 1.2561\n",
            "Epoch 21/40\n",
            "22/22 [==============================] - 2s 75ms/step - loss: 1.2172\n",
            "Epoch 22/40\n",
            "22/22 [==============================] - 2s 77ms/step - loss: 1.1812\n",
            "Epoch 23/40\n",
            "22/22 [==============================] - 2s 80ms/step - loss: 1.1421\n",
            "Epoch 24/40\n",
            "22/22 [==============================] - 2s 78ms/step - loss: 1.1031\n",
            "Epoch 25/40\n",
            "22/22 [==============================] - 2s 81ms/step - loss: 1.0640\n",
            "Epoch 26/40\n",
            "22/22 [==============================] - 2s 80ms/step - loss: 1.0191\n",
            "Epoch 27/40\n",
            "22/22 [==============================] - 2s 78ms/step - loss: 0.9783\n",
            "Epoch 28/40\n",
            "22/22 [==============================] - 2s 77ms/step - loss: 0.9371\n",
            "Epoch 29/40\n",
            "22/22 [==============================] - 2s 80ms/step - loss: 0.8927\n",
            "Epoch 30/40\n",
            "22/22 [==============================] - 2s 80ms/step - loss: 0.8474\n",
            "Epoch 31/40\n",
            "22/22 [==============================] - 2s 81ms/step - loss: 0.7992\n",
            "Epoch 32/40\n",
            "22/22 [==============================] - 2s 81ms/step - loss: 0.7482\n",
            "Epoch 33/40\n",
            "22/22 [==============================] - 2s 80ms/step - loss: 0.7014\n",
            "Epoch 34/40\n",
            "22/22 [==============================] - 2s 80ms/step - loss: 0.6587\n",
            "Epoch 35/40\n",
            "22/22 [==============================] - 2s 85ms/step - loss: 0.6148\n",
            "Epoch 36/40\n",
            "22/22 [==============================] - 2s 82ms/step - loss: 0.5663\n",
            "Epoch 37/40\n",
            "22/22 [==============================] - 2s 81ms/step - loss: 0.5257\n",
            "Epoch 38/40\n",
            "22/22 [==============================] - 2s 79ms/step - loss: 0.4857\n",
            "Epoch 39/40\n",
            "22/22 [==============================] - 2s 82ms/step - loss: 0.4572\n",
            "Epoch 40/40\n",
            "22/22 [==============================] - 2s 91ms/step - loss: 0.4241\n"
          ]
        }
      ]
    },
    {
      "cell_type": "markdown",
      "source": [
        "#Loading the Model\n",
        "I will rebuild the model from a checkpoint using a batch_size of 1, so that we can feed one piece of text to the model and have it make a prediction"
      ],
      "metadata": {
        "id": "8araHFqYItfk"
      }
    },
    {
      "cell_type": "code",
      "source": [
        "model = build_model(VOCAB_SIZE, EMBEDDING_DIM, RNN_UNITS, batch_size=1)\n"
      ],
      "metadata": {
        "id": "daG3mLJyB8mr"
      },
      "execution_count": null,
      "outputs": []
    },
    {
      "cell_type": "code",
      "source": [
        "#Once the model is finished training we can find the last checkpoint that stores the models weights using the following line\n",
        "model.load_weights(tf.train.latest_checkpoint(checkpoint_dir))\n",
        "model.build(tf.TensorShape([1, None]))"
      ],
      "metadata": {
        "id": "58QUUAxkB8iy"
      },
      "execution_count": null,
      "outputs": []
    },
    {
      "cell_type": "code",
      "source": [
        "#We can load any checkpoint we want by specifying the exact file to load\n",
        "#checkpoint_num = 10\n",
        "#model.load_weights(tf.train.load_checkpoint(\"./training_checkpoints/ckpt_\" + str(checkpoint_num)))\n",
        "#model.build(tf.TensorShape([1, None]))"
      ],
      "metadata": {
        "id": "cetSmtNgB8fw"
      },
      "execution_count": null,
      "outputs": []
    },
    {
      "cell_type": "markdown",
      "source": [
        "#Generating the text"
      ],
      "metadata": {
        "id": "PLlmsylJLC__"
      }
    },
    {
      "cell_type": "code",
      "source": [
        "def generate_text(model, start_string):\n",
        "  num_generate = 800 #Number of characters to generate\n",
        "  input_eval = [char2idx[s] for s in start_string]\n",
        "  input_eval = tf.expand_dims(input_eval, 0)\n",
        "\n",
        "  text_generated = []\n",
        "\n",
        "  temperature = 1.0\n",
        "\n",
        "  model.reset_states()\n",
        "  for i in range(num_generate):\n",
        "    predictions = model(input_eval)\n",
        "    predictions = tf.squeeze(predictions, 0)\n",
        "    predictions = predictions/temperature\n",
        "    predicted_id = tf.random.categorical(predictions, num_samples=1)[-1, 0].numpy()\n",
        "\n",
        "    input_eval = tf.expand_dims([predicted_id], 0)\n",
        "    text_generated.append(idx2char[predicted_id])\n",
        "\n",
        "  return (start_string + ''.join(text_generated))"
      ],
      "metadata": {
        "id": "MsuN1t8nLB8h"
      },
      "execution_count": null,
      "outputs": []
    },
    {
      "cell_type": "code",
      "source": [
        "inp = input(\"Type a starting string:\")\n",
        "print(generate_text(model, inp))"
      ],
      "metadata": {
        "colab": {
          "base_uri": "https://localhost:8080/"
        },
        "id": "40BV8uGoLB18",
        "outputId": "4bbb4343-527c-4e3b-c5fc-2efdcee7827d"
      },
      "execution_count": null,
      "outputs": [
        {
          "output_type": "stream",
          "name": "stdout",
          "text": [
            "Type a starting string:Kazakh\n",
            "Kazakhatphe friends of the philosophers is reaching. Those who are even confented is able to appear all the best mersigle, guving your eight give milah is a proke». «A gett craite. Why do not your mist! Stupidice. If he is the truth in in the man. No not think the believing – in all spenisly, but by his dig it inimain by lacuiful. But they asked himself and elective asticred hoped to the cack? When they real the world the troublemakers?\n",
            " \n",
            " \n",
            " \n",
            "1892\n",
            " \n",
            "The twenty-fifth word\n",
            " \n",
            "S will real the heart and the hungry other rive sersivered and a thirsh of all living long. Af they ware udfellighted because he is grand, intenty and Sow Mahe says, «Ak, why do not with th ommyops, and the other is were adous, learn? Why do not you affection to wealth, knowledge, can be called \"Thirst word\n",
            " \n",
            "Hey aur\n"
          ]
        }
      ]
    },
    {
      "cell_type": "code",
      "source": [],
      "metadata": {
        "id": "qqSbl0YdLB0E"
      },
      "execution_count": null,
      "outputs": []
    },
    {
      "cell_type": "code",
      "source": [],
      "metadata": {
        "id": "yFRuxVQyLByS"
      },
      "execution_count": null,
      "outputs": []
    }
  ]
}